{
 "cells": [
  {
   "cell_type": "code",
   "execution_count": 2,
   "id": "b056290c",
   "metadata": {},
   "outputs": [],
   "source": [
    "import pandas as pd\n",
    "\n",
    "\"\"\"\n",
    "This is a file that will help you convert your individual predictions to the final prediction. \n",
    "In the same directory as this file, you should have the following 4 files:\n",
    "  - LF_test_labels.csv - with at least two columns, 'id' and 'LF'\n",
    "  - LH_test_labels.csv - with at least two columns, 'id' and 'LH'\n",
    "  - RF_test_labels.csv - with at least two columns, 'id' and 'RF'\n",
    "  - RH_test_labels.csv - with at least two columns, 'id' and 'RH'\n",
    "\n",
    "Running this script will convert these four files into a single CSV file, submission.csv, by\n",
    "mutating the IDs so that they also include the leg that is being checked.\n",
    "\"\"\"\n",
    "\n",
    "legs = [\"LF\", \"LH\", \"RF\", \"RH\"]\n",
    "\n",
    "dfs = []\n",
    "\n",
    "for leg in legs:\n",
    "    # read in the file\n",
    "    test_prediction = pd.read_csv(f\"predict/predicted_{leg}_test_labels.csv\")\n",
    "    # append the abbreviation for the leg\n",
    "    test_prediction['id'] = test_prediction['id'].astype(str) + f\"_{leg}\"\n",
    "    # rename the label column\n",
    "    test_prediction['label'] = test_prediction[leg]\n",
    "    # exclude any potential additional columns\n",
    "    dfs.append(test_prediction[['id', 'label']])\n",
    "\n",
    "final_df = pd.concat(dfs)\n",
    "final_df.to_csv(\"predict/submission_M4_V4_branch_2.csv\", index=False)\n",
    "\n"
   ]
  },
  {
   "cell_type": "code",
   "execution_count": null,
   "id": "5498c62b",
   "metadata": {},
   "outputs": [],
   "source": []
  }
 ],
 "metadata": {
  "kernelspec": {
   "display_name": "Python 3 (ipykernel)",
   "language": "python",
   "name": "python3"
  },
  "language_info": {
   "codemirror_mode": {
    "name": "ipython",
    "version": 3
   },
   "file_extension": ".py",
   "mimetype": "text/x-python",
   "name": "python",
   "nbconvert_exporter": "python",
   "pygments_lexer": "ipython3",
   "version": "3.10.12"
  }
 },
 "nbformat": 4,
 "nbformat_minor": 5
}

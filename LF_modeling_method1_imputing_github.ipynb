{
 "cells": [
  {
   "cell_type": "code",
   "execution_count": 215,
   "id": "fc543420",
   "metadata": {},
   "outputs": [],
   "source": [
    "import pandas as pd\n",
    "import numpy as np\n",
    "from sklearn.model_selection import train_test_split\n",
    "from sklearn.linear_model import LogisticRegression\n",
    "# from sklearn import metrics\n",
    "from sklearn.ensemble import RandomForestClassifier\n",
    "from sklearn.metrics import classification_report, confusion_matrix, accuracy_score\n",
    "import matplotlib.pyplot as plt\n",
    "from sklearn import svm\n",
    "from sklearn.ensemble import GradientBoostingClassifier\n",
    "from sklearn.impute import SimpleImputer\n",
    "import joblib\n",
    "from sklearn.model_selection import GridSearchCV\n",
    "import xgboost as xgb"
   ]
  },
  {
   "cell_type": "code",
   "execution_count": 216,
   "id": "7651e5e1",
   "metadata": {},
   "outputs": [],
   "source": [
    "def preprocess(raw_data):\n",
    "    \n",
    "    raw_data.iloc[:,   9:189] = raw_data.iloc[:, 9:189].div(raw_data['weight'], axis=0) #normalize all the V colums to weight\n",
    "    raw_data.iloc[:, 191:371] = raw_data.iloc[:, 191:371].div(raw_data['weight'], axis=0) #normalize all the V colums to weight\n",
    "\n",
    "    raw_data['gait']=1 #change all string 'walk' to a number 1\n",
    "    raw_data['Gait']=1 #change all string 'trot' to a number 1\n",
    "\n",
    "    raw_data.loc[raw_data['speed'] .isin(['Not able to walk', 'no data','no valid trials', np.nan]), raw_data.columns[7:189]] = 0    #impute all the 'not able' column with 0\n",
    "    raw_data.loc[raw_data['Speed'] .isin(['Not able to trot', 'no data', 'no valid trials', np.nan]), raw_data.columns[189:371]] = 0  #impute all the 'not able' column with 0\n",
    "\n",
    "    #drop object column, which is irrevelant colums to our modles\n",
    "    raw_data.drop(['dob','forceplate_date'], axis=1, inplace=True)\n",
    "\n",
    "    raw_data['speed'] = raw_data['speed'].astype(float)\n",
    "    raw_data['Speed'] = raw_data['Speed'].astype(float)\n",
    "\n",
    "#     raw_data.fillna(raw_data.mean(), inplace=True)\n",
    "    \n",
    "    return raw_data"
   ]
  },
  {
   "cell_type": "code",
   "execution_count": 217,
   "id": "0837ebfd",
   "metadata": {},
   "outputs": [],
   "source": [
    "# missing value imputing, using the same mean value from training dataset\n",
    "loca='LF'\n",
    "raw_data_train = pd.read_csv('raw_data/'+loca+'_train.csv')\n",
    "raw_data_val = pd.read_csv('raw_data/'+loca+'_val.csv')\n",
    "\n",
    "data_train = preprocess(raw_data_train)\n",
    "data_val = preprocess(raw_data_val)\n",
    "\n",
    "impute_value = data_train.mean()\n",
    "\n",
    "data_train.fillna(impute_value, inplace=True)\n",
    "data_val.fillna(impute_value, inplace=True)"
   ]
  },
  {
   "cell_type": "code",
   "execution_count": 218,
   "id": "62b4f877",
   "metadata": {},
   "outputs": [],
   "source": [
    "X_train = data_train.drop([loca, 'id'], axis=1)\n",
    "# X = raw_data.drop(['LF', 'id','gait','Gait'], axis=1)\n",
    "y_train = data_train[loca]\n",
    "\n",
    "X_val = data_val.drop([loca, 'id'], axis=1)\n",
    "# X = raw_data.drop(['LF', 'id','gait','Gait'], axis=1)\n",
    "y_val = data_val[loca]\n",
    "\n",
    "# X_train.to_csv('train_processed_simple_imputed.csv', index=False)\n",
    "# X_val.to_csv('val_processed_simple_imputed.csv', index=False)"
   ]
  },
  {
   "cell_type": "markdown",
   "id": "1253a7e0",
   "metadata": {},
   "source": [
    "## Logistic Regression"
   ]
  },
  {
   "cell_type": "code",
   "execution_count": 219,
   "id": "afd0cce9",
   "metadata": {},
   "outputs": [
    {
     "name": "stdout",
     "output_type": "stream",
     "text": [
      "Accuracy: 0.8918918918918919\n"
     ]
    },
    {
     "name": "stderr",
     "output_type": "stream",
     "text": [
      "/opt/homebrew/lib/python3.10/site-packages/sklearn/linear_model/_logistic.py:458: ConvergenceWarning: lbfgs failed to converge (status=1):\n",
      "STOP: TOTAL NO. of ITERATIONS REACHED LIMIT.\n",
      "\n",
      "Increase the number of iterations (max_iter) or scale the data as shown in:\n",
      "    https://scikit-learn.org/stable/modules/preprocessing.html\n",
      "Please also refer to the documentation for alternative solver options:\n",
      "    https://scikit-learn.org/stable/modules/linear_model.html#logistic-regression\n",
      "  n_iter_i = _check_optimize_result(\n"
     ]
    }
   ],
   "source": [
    "model_LR = LogisticRegression()\n",
    "model_LR.fit(X_train, y_train)\n",
    "y_pred_LR = model_LR.predict(X_val)\n",
    "accuracy_LR = accuracy_score(y_val, y_pred_LR)\n",
    "print(f\"Accuracy: {accuracy_LR}\")"
   ]
  },
  {
   "cell_type": "markdown",
   "id": "1e07234d",
   "metadata": {},
   "source": [
    "## Kernalized SVM"
   ]
  },
  {
   "cell_type": "code",
   "execution_count": 220,
   "id": "23b260f0",
   "metadata": {},
   "outputs": [
    {
     "name": "stdout",
     "output_type": "stream",
     "text": [
      "0.8648648648648649\n"
     ]
    }
   ],
   "source": [
    "model_SVM = svm.SVC(kernel='rbf')\n",
    "model_SVM.fit(X_train,y_train)\n",
    "y_pred_SVM = model_SVM.predict(X_val)\n",
    "print(accuracy_score(y_val, y_pred_SVM))"
   ]
  },
  {
   "cell_type": "markdown",
   "id": "4742bb03",
   "metadata": {},
   "source": [
    "## Random Forest"
   ]
  },
  {
   "cell_type": "code",
   "execution_count": 221,
   "id": "f511e163",
   "metadata": {},
   "outputs": [
    {
     "data": {
      "image/png": "[encoded data removed]",
      "text/plain": [
       "<Figure size 800x400 with 1 Axes>"
      ]
     },
     "metadata": {},
     "output_type": "display_data"
    },
    {
     "name": "stdout",
     "output_type": "stream",
     "text": [
      "[[32  0]\n",
      " [ 5  0]]\n",
      "              precision    recall  f1-score   support\n",
      "\n",
      "           0       0.86      1.00      0.93        32\n",
      "           1       0.00      0.00      0.00         5\n",
      "\n",
      "    accuracy                           0.86        37\n",
      "   macro avg       0.43      0.50      0.46        37\n",
      "weighted avg       0.75      0.86      0.80        37\n",
      "\n",
      "0.8648648648648649\n"
     ]
    },
    {
     "name": "stderr",
     "output_type": "stream",
     "text": [
      "/opt/homebrew/lib/python3.10/site-packages/sklearn/metrics/_classification.py:1344: UndefinedMetricWarning: Precision and F-score are ill-defined and being set to 0.0 in labels with no predicted samples. Use `zero_division` parameter to control this behavior.\n",
      "  _warn_prf(average, modifier, msg_start, len(result))\n",
      "/opt/homebrew/lib/python3.10/site-packages/sklearn/metrics/_classification.py:1344: UndefinedMetricWarning: Precision and F-score are ill-defined and being set to 0.0 in labels with no predicted samples. Use `zero_division` parameter to control this behavior.\n",
      "  _warn_prf(average, modifier, msg_start, len(result))\n",
      "/opt/homebrew/lib/python3.10/site-packages/sklearn/metrics/_classification.py:1344: UndefinedMetricWarning: Precision and F-score are ill-defined and being set to 0.0 in labels with no predicted samples. Use `zero_division` parameter to control this behavior.\n",
      "  _warn_prf(average, modifier, msg_start, len(result))\n"
     ]
    }
   ],
   "source": [
    "estimator_range = range(10, 40, 2)\n",
    "accuracy_RF=[]\n",
    "random_state = 1\n",
    "\n",
    "for estimator_size in estimator_range:\n",
    "#     print(estimator_size)\n",
    "    model_RF=RandomForestClassifier(n_estimators=estimator_size)\n",
    "    model_RF.fit(X_train, y_train)\n",
    "    y_pred_RF = model_RF.predict(X_val)\n",
    "    accuacy=accuracy_score(y_val, y_pred_RF)\n",
    "#     print(accuacy)\n",
    "    accuracy_RF.append(accuacy)\n",
    "\n",
    "plt.figure(figsize=(8, 4))\n",
    "plt.plot(estimator_range, accuracy_RF, marker='o', linestyle='-', color='b')\n",
    "plt.title('Accuracy by Number of Estimators in Random Forest')\n",
    "plt.xlabel('Number of Estimators')\n",
    "plt.ylabel('Accuracy')\n",
    "plt.grid()\n",
    "plt.show()\n",
    "\n",
    "print(confusion_matrix(y_val, y_pred_RF))\n",
    "print(classification_report(y_val, y_pred_RF))\n",
    "print(accuracy_score(y_val, y_pred_RF))"
   ]
  },
  {
   "cell_type": "markdown",
   "id": "5a293043",
   "metadata": {},
   "source": [
    "## GBM"
   ]
  },
  {
   "cell_type": "code",
   "execution_count": 222,
   "id": "8e6f5dfd",
   "metadata": {},
   "outputs": [
    {
     "name": "stdout",
     "output_type": "stream",
     "text": [
      "Accuracy:  0.8918918918918919\n"
     ]
    }
   ],
   "source": [
    "gbm_clf = GradientBoostingClassifier(n_estimators=100, learning_rate=1.0, max_depth=1)\n",
    "\n",
    "# Fit the model\n",
    "gbm_clf.fit(X_train, y_train)\n",
    "\n",
    "# Predict on the test data\n",
    "y_pred = gbm_clf.predict(X_val)\n",
    "\n",
    "# Print the accuracy\n",
    "print('Accuracy: ', accuracy_score(y_val, y_pred))"
   ]
  },
  {
   "cell_type": "markdown",
   "id": "661df808",
   "metadata": {},
   "source": [
    "## GBM Search"
   ]
  },
  {
   "cell_type": "code",
   "execution_count": 223,
   "id": "9bec733e",
   "metadata": {
    "scrolled": true
   },
   "outputs": [
    {
     "name": "stdout",
     "output_type": "stream",
     "text": [
      "Progress:1/64\n",
      "Best parameters: n_estimators: 100,learning_rate:0.001, max_depth:1\n",
      "best_acc:0.8648648648648649\n",
      "Progress:2/64\n",
      "Best parameters: n_estimators: 100,learning_rate:0.001, max_depth:2\n",
      "best_acc:0.8648648648648649\n",
      "Progress:3/64\n",
      "Best parameters: n_estimators: 100,learning_rate:0.001, max_depth:3\n",
      "best_acc:0.8648648648648649\n",
      "Progress:4/64\n",
      "Best parameters: n_estimators: 100,learning_rate:0.001, max_depth:4\n",
      "best_acc:0.8648648648648649\n",
      "Progress:5/64\n",
      "Best parameters: n_estimators: 100,learning_rate:0.01, max_depth:1\n",
      "best_acc:0.8648648648648649\n",
      "Progress:6/64\n",
      "Best parameters: n_estimators: 100,learning_rate:0.01, max_depth:2\n",
      "best_acc:0.8648648648648649\n",
      "Progress:7/64\n",
      "Best parameters: n_estimators: 100,learning_rate:0.01, max_depth:3\n",
      "best_acc:0.8918918918918919\n",
      "Progress:8/64\n",
      "Progress:9/64\n",
      "Progress:10/64\n",
      "Progress:11/64\n",
      "Best parameters: n_estimators: 100,learning_rate:0.1, max_depth:3\n",
      "best_acc:0.8918918918918919\n",
      "Progress:12/64\n",
      "Progress:13/64\n",
      "Progress:14/64\n",
      "Best parameters: n_estimators: 100,learning_rate:0.3, max_depth:2\n",
      "best_acc:0.8918918918918919\n",
      "Progress:15/64\n",
      "Best parameters: n_estimators: 100,learning_rate:0.3, max_depth:3\n",
      "best_acc:0.8918918918918919\n",
      "Progress:16/64\n",
      "Best parameters: n_estimators: 100,learning_rate:0.3, max_depth:4\n",
      "best_acc:0.8918918918918919\n",
      "Progress:17/64\n",
      "Progress:18/64\n",
      "Progress:19/64\n",
      "Progress:20/64\n",
      "Progress:21/64\n",
      "Progress:22/64\n",
      "Progress:23/64\n",
      "Best parameters: n_estimators: 200,learning_rate:0.01, max_depth:3\n",
      "best_acc:0.8918918918918919\n",
      "Progress:24/64\n",
      "Progress:25/64\n",
      "Progress:26/64\n",
      "Progress:27/64\n",
      "Best parameters: n_estimators: 200,learning_rate:0.1, max_depth:3\n",
      "best_acc:0.8918918918918919\n",
      "Progress:28/64\n",
      "Progress:29/64\n",
      "Progress:30/64\n",
      "Best parameters: n_estimators: 200,learning_rate:0.3, max_depth:2\n",
      "best_acc:0.8918918918918919\n",
      "Progress:31/64\n",
      "Best parameters: n_estimators: 200,learning_rate:0.3, max_depth:3\n",
      "best_acc:0.8918918918918919\n",
      "Progress:32/64\n",
      "Progress:33/64\n",
      "Progress:34/64\n",
      "Progress:35/64\n",
      "Progress:36/64\n",
      "Progress:37/64\n",
      "Progress:38/64\n",
      "Progress:39/64\n",
      "Best parameters: n_estimators: 300,learning_rate:0.01, max_depth:3\n",
      "best_acc:0.8918918918918919\n",
      "Progress:40/64\n",
      "Progress:41/64\n",
      "Progress:42/64\n",
      "Best parameters: n_estimators: 300,learning_rate:0.1, max_depth:2\n",
      "best_acc:0.8918918918918919\n",
      "Progress:43/64\n",
      "Best parameters: n_estimators: 300,learning_rate:0.1, max_depth:3\n",
      "best_acc:0.8918918918918919\n",
      "Progress:44/64\n",
      "Progress:45/64\n",
      "Progress:46/64\n",
      "Best parameters: n_estimators: 300,learning_rate:0.3, max_depth:2\n",
      "best_acc:0.8918918918918919\n",
      "Progress:47/64\n",
      "Best parameters: n_estimators: 300,learning_rate:0.3, max_depth:3\n",
      "best_acc:0.8918918918918919\n",
      "Progress:48/64\n",
      "Best parameters: n_estimators: 300,learning_rate:0.3, max_depth:4\n",
      "best_acc:0.918918918918919\n",
      "Progress:49/64\n",
      "Progress:50/64\n",
      "Progress:51/64\n",
      "Progress:52/64\n",
      "Progress:53/64\n",
      "Progress:54/64\n",
      "Progress:55/64\n",
      "Progress:56/64\n",
      "Progress:57/64\n",
      "Progress:58/64\n",
      "Progress:59/64\n",
      "Progress:60/64\n",
      "Progress:61/64\n",
      "Progress:62/64\n",
      "Progress:63/64\n",
      "Progress:64/64\n"
     ]
    }
   ],
   "source": [
    "best_acc=0\n",
    "progress=0\n",
    "for n_estimators in [100, 200, 300, 400]:\n",
    "    for learning_rate in [0.001,0.01, 0.1, 0.3]:\n",
    "        for max_depth in [1, 2, 3, 4]:\n",
    "            progress+=1\n",
    "            print(f'Progress:{progress}/{4*4*4}')\n",
    "            gbm_clf = GradientBoostingClassifier(n_estimators=n_estimators, learning_rate=learning_rate, max_depth=max_depth)\n",
    "            gbm_clf.fit(X_train, y_train)\n",
    "            y_pred = gbm_clf.predict(X_val)\n",
    "            if accuracy_score(y_val, y_pred)>= best_acc:\n",
    "                best_acc=accuracy_score(y_val, y_pred)\n",
    "                best_param=[n_estimators,learning_rate,max_depth]\n",
    "                print(f'Best parameters: n_estimators: {n_estimators},learning_rate:{learning_rate}, max_depth:{max_depth}')\n",
    "                print(f'best_acc:{best_acc}')\n",
    "# Print the accuracy"
   ]
  },
  {
   "cell_type": "markdown",
   "id": "1a8d6c15",
   "metadata": {},
   "source": [
    "## XGBoost Search (imputed)"
   ]
  },
  {
   "cell_type": "code",
   "execution_count": 224,
   "id": "faf11b61",
   "metadata": {},
   "outputs": [
    {
     "name": "stdout",
     "output_type": "stream",
     "text": [
      "Progress:1/64\n",
      "Best parameters: n_estimators: 100,learning_rate:0.01, max_depth:1\n",
      "best_acc:0.8648648648648649\n",
      "Progress:2/64\n",
      "Best parameters: n_estimators: 200,learning_rate:0.01, max_depth:1\n",
      "best_acc:0.8648648648648649\n",
      "Progress:3/64\n",
      "Best parameters: n_estimators: 300,learning_rate:0.01, max_depth:1\n",
      "best_acc:0.8648648648648649\n",
      "Progress:4/64\n",
      "Best parameters: n_estimators: 400,learning_rate:0.01, max_depth:1\n",
      "best_acc:0.8648648648648649\n",
      "Progress:5/64\n",
      "Best parameters: n_estimators: 100,learning_rate:0.1, max_depth:1\n",
      "best_acc:0.8648648648648649\n",
      "Progress:6/64\n",
      "Best parameters: n_estimators: 200,learning_rate:0.1, max_depth:1\n",
      "best_acc:0.8648648648648649\n",
      "Progress:7/64\n",
      "Best parameters: n_estimators: 300,learning_rate:0.1, max_depth:1\n",
      "best_acc:0.8648648648648649\n",
      "Progress:8/64\n",
      "Best parameters: n_estimators: 400,learning_rate:0.1, max_depth:1\n",
      "best_acc:0.8648648648648649\n",
      "Progress:9/64\n",
      "Best parameters: n_estimators: 100,learning_rate:0.3, max_depth:1\n",
      "best_acc:0.8648648648648649\n",
      "Progress:10/64\n",
      "Best parameters: n_estimators: 200,learning_rate:0.3, max_depth:1\n",
      "best_acc:0.8648648648648649\n",
      "Progress:11/64\n",
      "Best parameters: n_estimators: 300,learning_rate:0.3, max_depth:1\n",
      "best_acc:0.8648648648648649\n",
      "Progress:12/64\n",
      "Best parameters: n_estimators: 400,learning_rate:0.3, max_depth:1\n",
      "best_acc:0.8648648648648649\n",
      "Progress:13/64\n",
      "Best parameters: n_estimators: 100,learning_rate:0.6, max_depth:1\n",
      "best_acc:0.8648648648648649\n",
      "Progress:14/64\n",
      "Best parameters: n_estimators: 200,learning_rate:0.6, max_depth:1\n",
      "best_acc:0.8648648648648649\n",
      "Progress:15/64\n",
      "Best parameters: n_estimators: 300,learning_rate:0.6, max_depth:1\n",
      "best_acc:0.8648648648648649\n",
      "Progress:16/64\n",
      "Best parameters: n_estimators: 400,learning_rate:0.6, max_depth:1\n",
      "best_acc:0.8648648648648649\n",
      "Progress:17/64\n",
      "Best parameters: n_estimators: 100,learning_rate:0.01, max_depth:3\n",
      "best_acc:0.8918918918918919\n",
      "Progress:18/64\n",
      "Best parameters: n_estimators: 200,learning_rate:0.01, max_depth:3\n",
      "best_acc:0.918918918918919\n",
      "Progress:19/64\n",
      "Progress:20/64\n",
      "Progress:21/64\n",
      "Progress:22/64\n",
      "Progress:23/64\n",
      "Progress:24/64\n",
      "Progress:25/64\n",
      "Progress:26/64\n",
      "Progress:27/64\n",
      "Progress:28/64\n",
      "Progress:29/64\n",
      "Progress:30/64\n",
      "Progress:31/64\n",
      "Progress:32/64\n",
      "Progress:33/64\n",
      "Progress:34/64\n",
      "Progress:35/64\n",
      "Best parameters: n_estimators: 300,learning_rate:0.01, max_depth:6\n",
      "best_acc:0.918918918918919\n",
      "Progress:36/64\n",
      "Progress:37/64\n",
      "Progress:38/64\n",
      "Progress:39/64\n",
      "Progress:40/64\n",
      "Progress:41/64\n",
      "Progress:42/64\n",
      "Progress:43/64\n",
      "Progress:44/64\n",
      "Progress:45/64\n",
      "Progress:46/64\n",
      "Progress:47/64\n",
      "Progress:48/64\n",
      "Progress:49/64\n",
      "Progress:50/64\n",
      "Progress:51/64\n",
      "Best parameters: n_estimators: 300,learning_rate:0.01, max_depth:9\n",
      "best_acc:0.918918918918919\n",
      "Progress:52/64\n",
      "Progress:53/64\n",
      "Progress:54/64\n",
      "Progress:55/64\n",
      "Progress:56/64\n",
      "Progress:57/64\n",
      "Progress:58/64\n",
      "Progress:59/64\n",
      "Progress:60/64\n",
      "Progress:61/64\n",
      "Progress:62/64\n",
      "Progress:63/64\n",
      "Progress:64/64\n"
     ]
    }
   ],
   "source": [
    "best_acc=0\n",
    "progress=0\n",
    "for max_depth in [1,3,6,9]:\n",
    "    for learning_rate in [0.01, 0.1,0.3,0.6]:\n",
    "        for n_estimators in [100,200,300,400]:\n",
    "            progress+=1\n",
    "            print(f'Progress:{progress}/{4*4*4}')\n",
    "            xgb_clf = xgb.XGBClassifier(objective='binary:logistic', max_depth=max_depth,learning_rate=learning_rate,n_estimators=n_estimators)\n",
    "            xgb_clf.fit(X_train, y_train)\n",
    "            y_pred = xgb_clf.predict(X_val)\n",
    "            if accuracy_score(y_val, y_pred)>= best_acc:\n",
    "                best_acc=accuracy_score(y_val, y_pred)\n",
    "                best_param=[n_estimators,learning_rate,max_depth]\n",
    "                print(f'Best parameters: n_estimators: {n_estimators},learning_rate:{learning_rate}, max_depth:{max_depth}')\n",
    "                print(f'best_acc:{best_acc}')\n",
    "            "
   ]
  },
  {
   "cell_type": "code",
   "execution_count": null,
   "id": "97ca8e87",
   "metadata": {},
   "outputs": [],
   "source": []
  }
 ],
 "metadata": {
  "kernelspec": {
   "display_name": "Python 3 (ipykernel)",
   "language": "python",
   "name": "python3"
  },
  "language_info": {
   "codemirror_mode": {
    "name": "ipython",
    "version": 3
   },
   "file_extension": ".py",
   "mimetype": "text/x-python",
   "name": "python",
   "nbconvert_exporter": "python",
   "pygments_lexer": "ipython3",
   "version": "3.10.12"
  }
 },
 "nbformat": 4,
 "nbformat_minor": 5
}
